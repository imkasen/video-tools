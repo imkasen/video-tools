{
  "cells": [
    {
      "cell_type": "markdown",
      "metadata": {
        "id": "ggN4mdZ3BFhr"
      },
      "source": [
        "# Video Translation Agent Using Google Gemini"
      ]
    },
    {
      "cell_type": "markdown",
      "metadata": {},
      "source": [
        "<a target=\"_blank\" href=\"https://colab.research.google.com/github/imkasen/video-tools/blob/main/video_translator.ipynb\">\n",
        "  <img src=\"https://colab.research.google.com/assets/colab-badge.svg\" alt=\"Open In Colab\"/>\n",
        "</a>"
      ]
    },
    {
      "cell_type": "markdown",
      "metadata": {
        "id": "jXfh9pUhBPDA"
      },
      "source": [
        "Generate and translate video subtitles using LLM Agent built by LangChain with [Faster Whisper](https://github.com/SYSTRAN/faster-whisper) and [Google Gemini API](https://aistudio.google.com/apikey).\n",
        "\n",
        "**A Google Gemini API is needed.**"
      ]
    },
    {
      "cell_type": "code",
      "execution_count": null,
      "metadata": {
        "cellView": "form",
        "id": "pSp206LmBnYd"
      },
      "outputs": [],
      "source": [
        "# @title ### 0. Check Available Regions\n",
        "# @markdown Check that the Gemini service is available in the region where Colab server is located.\n",
        "\n",
        "# @markdown [Gemini API Available Regions](https://ai.google.dev/gemini-api/docs/available-regions)\n",
        "\n",
        "!curl ipinfo.io"
      ]
    },
    {
      "cell_type": "code",
      "execution_count": null,
      "metadata": {
        "cellView": "form",
        "id": "0VRP4TM5742F"
      },
      "outputs": [],
      "source": [
        "# @title ### 1. Device Type\n",
        "# @markdown **Recommend T4 GPU**\n",
        "\n",
        "!nvidia-smi\n",
        "\n",
        "\n",
        "import torch\n",
        "\n",
        "\n",
        "device = torch.device(\"cuda\" if torch.cuda.is_available() else \"cpu\")\n",
        "print(f\"\\nUsing '{device.type}'.\")"
      ]
    },
    {
      "cell_type": "code",
      "execution_count": null,
      "metadata": {
        "cellView": "form",
        "id": "3bKEczdGIftu"
      },
      "outputs": [],
      "source": [
        "# @title ## 2. Install Requirements\n",
        "%pip install --quiet openai-whisper faster-whisper langchain langchain-google-genai ctranslate2==4.4.0"
      ]
    },
    {
      "cell_type": "code",
      "execution_count": null,
      "metadata": {
        "cellView": "form",
        "id": "TfPdmOJeEkf9"
      },
      "outputs": [],
      "source": [
        "# @title ## 3. Upload Video/Audio\n",
        "\n",
        "from google.colab import files\n",
        "\n",
        "\n",
        "uploaded: dict = files.upload()\n",
        "\n",
        "uploaded_filename: str = \"\"\n",
        "if len(list(uploaded.keys())) == 1:\n",
        "    uploaded_filename: str = list(uploaded.keys())[0]"
      ]
    },
    {
      "cell_type": "markdown",
      "metadata": {
        "id": "ds1iquoPHRQa"
      },
      "source": [
        "## 4. Extract Audio"
      ]
    },
    {
      "cell_type": "code",
      "execution_count": null,
      "metadata": {
        "cellView": "form",
        "id": "X_ZabWkwPOCN"
      },
      "outputs": [],
      "source": [
        "# @title ### 4.1 Extract Audio\n",
        "# @markdown Use FFmpeg to get audio from video.\n",
        "\n",
        "import os\n",
        "import mimetypes\n",
        "\n",
        "\n",
        "if \" \" in uploaded_filename:\n",
        "    new_filename = uploaded_filename.replace(\" \", \"_\")\n",
        "    os.rename(uploaded_filename, new_filename)\n",
        "    print(f\"Rename file from '{uploaded_filename}' to '{new_filename}'\")\n",
        "    uploaded_filename = new_filename\n",
        "\n",
        "prefix_filename, _ = os.path.splitext(uploaded_filename)\n",
        "mime_type, _ = mimetypes.guess_type(uploaded_filename)\n",
        "audio_filename: str = \"\"\n",
        "\n",
        "if mime_type and mime_type.startswith(\"video/\"):\n",
        "    os.system(f'ffmpeg -hide_banner -v error -i \"{uploaded_filename}\" -vn -c:a copy \"{prefix_filename}.aac\" -y')\n",
        "    audio_filename = f\"{prefix_filename}.aac\"\n",
        "    if os.path.isfile(audio_filename):\n",
        "        print(f'Audio file: \"{audio_filename}\" extracted!')\n",
        "    else:\n",
        "        print(f'Fail to extract audio file: \"{audio_filename}\"!')\n",
        "elif mime_type and mime_type.startswith(\"audio/\"):\n",
        "    audio_filename = uploaded_filename\n",
        "    print(f'Use audio file: \"{audio_filename}\"')\n",
        "else:\n",
        "    print(\"Unknown file type!\")"
      ]
    },
    {
      "cell_type": "code",
      "execution_count": null,
      "metadata": {
        "cellView": "form",
        "id": "I-VrAiEGG47T"
      },
      "outputs": [],
      "source": [
        "# @title ### 4.2 Download Audio\n",
        "# @markdown Download the extracted audio file to your browser's default download path.\n",
        "\n",
        "from google.colab import files\n",
        "\n",
        "\n",
        "files.download(audio_filename)"
      ]
    },
    {
      "cell_type": "markdown",
      "metadata": {
        "id": "rAefVho7RFwz"
      },
      "source": [
        "## 5. ASR"
      ]
    },
    {
      "cell_type": "code",
      "execution_count": null,
      "metadata": {
        "cellView": "form",
        "id": "3lty5zA8JtNF"
      },
      "outputs": [],
      "source": [
        "# @title ### 5.1 Download Whisper Model\n",
        "\n",
        "from faster_whisper import WhisperModel\n",
        "\n",
        "\n",
        "compute_type: str = \"\"\n",
        "\n",
        "if device.type == \"cuda\":\n",
        "    compute_type = \"float16\"\n",
        "if device.type == \"cpu\":\n",
        "    compute_type = \"int8\"\n",
        "\n",
        "model = WhisperModel(\"large-v3\", device=device.type, compute_type=compute_type)"
      ]
    },
    {
      "cell_type": "code",
      "execution_count": null,
      "metadata": {
        "cellView": "form",
        "id": "j7L0bomQGhvb"
      },
      "outputs": [],
      "source": [
        "# @title ### 5.2 Export Subtiles\n",
        "\n",
        "from whisper.utils import get_writer\n",
        "from dataclasses import asdict\n",
        "\n",
        "\n",
        "segments, _ = model.transcribe(\n",
        "    audio_filename,\n",
        "    beam_size=5,\n",
        "    initial_prompt=\"Please use Simplified Chinese to display Chinese character.\",\n",
        "    vad_filter=True,\n",
        "    vad_parameters={\"min_silence_duration_ms\": 500},\n",
        ")\n",
        "\n",
        "segs_lst: list = []\n",
        "text: str = \"\"\n",
        "for segment in segments:\n",
        "    text += segment.text\n",
        "    # segment_dict = segment._asdict()\n",
        "    segment_dict = asdict(segment)\n",
        "    segment_dict.pop(\"words\")\n",
        "    segs_lst.append(segment_dict)\n",
        "result: dict[str, str | list] = {\"text\": text, \"segments\": segs_lst}\n",
        "\n",
        "# @markdown Use the `writer` method in openai-whisper to save the subtitle file to the current runtime environment.\n",
        "writer = get_writer(\"srt\", \".\")\n",
        "writer(result, prefix_filename)"
      ]
    },
    {
      "cell_type": "code",
      "execution_count": null,
      "metadata": {
        "cellView": "form",
        "id": "w913rqb0Hewx"
      },
      "outputs": [],
      "source": [
        "# @title ### 5.3 Download Subtitle\n",
        "# @markdown Download the subtitle file to your browser's default download path.\n",
        "\n",
        "from google.colab import files\n",
        "\n",
        "\n",
        "files.download(f\"{prefix_filename}.srt\")"
      ]
    },
    {
      "cell_type": "markdown",
      "metadata": {
        "id": "qNUsXJYlHBj6"
      },
      "source": [
        "## 6. Translation"
      ]
    },
    {
      "cell_type": "markdown",
      "metadata": {
        "id": "BQ_JkoK3_opt"
      },
      "source": [
        "---"
      ]
    },
    {
      "cell_type": "markdown",
      "metadata": {
        "id": "x2GTVnftMTVq"
      },
      "source": [
        "Import Google Gemini API key, **choose one of the following commands and execute it**."
      ]
    },
    {
      "cell_type": "code",
      "execution_count": null,
      "metadata": {
        "cellView": "form",
        "id": "9Eik1CC6G_AD"
      },
      "outputs": [],
      "source": [
        "# @title ### 6.1 (1) Fill in the key manually\n",
        "\n",
        "gemini_api_key = \"\"  # @param {type: \"string\"}"
      ]
    },
    {
      "cell_type": "code",
      "execution_count": null,
      "metadata": {
        "cellView": "form",
        "id": "SLBGEqIdMXrU"
      },
      "outputs": [],
      "source": [
        "# @title ### 6.1 (2) Load key from the Colab Secret\n",
        "\n",
        "from google.colab import userdata\n",
        "\n",
        "\n",
        "# @markdown Fill in the Secret name:\n",
        "key_name = \"API_KEY\"  # @param {type: \"string\"}\n",
        "gemini_api_key = userdata.get(key_name)"
      ]
    },
    {
      "cell_type": "code",
      "execution_count": null,
      "metadata": {
        "cellView": "form",
        "id": "gyYuJEP-Sr0w"
      },
      "outputs": [],
      "source": [
        "# @title ### 6.2 Please enter the language into which the translation is required:\n",
        "\n",
        "language = \"Simplified Chinese\"  # @param {type: \"string\"}"
      ]
    },
    {
      "cell_type": "markdown",
      "metadata": {
        "id": "0-KFzSvuNuPh"
      },
      "source": [
        "---"
      ]
    },
    {
      "cell_type": "markdown",
      "metadata": {
        "id": "_tTJ8w89ShjM"
      },
      "source": [
        "Translation with Gemini."
      ]
    },
    {
      "cell_type": "code",
      "execution_count": null,
      "metadata": {
        "cellView": "form",
        "id": "QRtbo8oYQpX4"
      },
      "outputs": [],
      "source": [
        "# @title ### 6.3 Prompt Template\n",
        "\n",
        "template: str = r\"\"\"\n",
        "你是一名精通任何语言的翻译专家，尤其擅长将任何外语翻译为{language}。请你帮我翻译字幕文件内容。\n",
        "\n",
        "# 规则\n",
        "\n",
        "- 翻译时要准确传达原文的事实和背景。\n",
        "- 即使上意译也要保留原始段落格式，以及保留术语，例如 FLAC，JPEG 等。保留公司缩写，例如 Microsoft, Amazon, OpenAI 等。\n",
        "- 人名不翻译\n",
        "- 全角括号换成半角括号，并在左括号前面加半角空格，右括号后面加半角空格。\n",
        "- 中文、外语、数字、字符混用时彼此之间添加空格\n",
        "- 输入与输出格式保持一致，例如输入格式为 srt 格式，输出格式也必须为 srt 格式\n",
        "- 在翻译专业术语时，第一次出现时要在括号里面写上英文原文，例如：“生成式 AI (Generative AI)”，之后就可以只写中文了。\n",
        "- 以下是常见的 AI 相关术语词汇对应表（English -> 中文）：\n",
        "  * Transformer -> Transformer\n",
        "  * Token -> Token\n",
        "  * LLM/Large Language Model -> 大语言模型\n",
        "  * Zero-shot -> 零样本\n",
        "  * Few-shot -> 少样本\n",
        "  * AI Agent -> AI 智能体\n",
        "  * AGI -> 通用人工智能\n",
        "  * Prompt -> 提示词\n",
        "  * LLMs -> LLMs\n",
        "\n",
        "# 策略\n",
        "\n",
        "分以下几步进行翻译工作：\n",
        "1. 用户发送给你的字幕内容可能包含多种语言，如英文、西班牙语混合，并且字幕内容可能由机器识别生成，例如通过 OpenAI Whisper 框架识别产生，\n",
        "   所以请先检查原文内容，并根据前后文本修正其中存在的问题，包括但不限于：\n",
        "   - 语法错误\n",
        "   - 内容缺失造成的语句不通顺\n",
        "2. 根据内容直译，保持原有格式，不要遗漏任何信息\n",
        "3. 根据直译的结果找出问题，包括但不限于：\n",
        "   - 不符合中文表达习惯，指出不符合的地方\n",
        "   - 语句不通顺，指出位置，不需要给出修改意见，意译时修复\n",
        "   - 晦涩难懂，不易理解，可以尝试给出解释\n",
        "4. 根据直译结果和指出的问题重新进行意译，保证内容的原意的基础上，使其更易于理解，更符合中文的表达习惯\n",
        "\n",
        "# 示例\n",
        "\n",
        "要求保持原有的字幕格式不变，生成多语种字幕，并把{language}作为主要字幕，把原语言作为次要字幕，然后返回翻译结果。\n",
        "\n",
        "以下是把一个英文 srt 字幕片段翻译为中文英文双语字幕的示例，在后续翻译过程中你需要参考该示例的格式。\n",
        "\n",
        "## 示例 - 原始字幕内容\n",
        "\n",
        "```\n",
        "1\n",
        "00:00:00,000 --> 00:00:02,900\n",
        "Hello, world!\n",
        "```\n",
        "\n",
        "## 示例 - 翻译结果\n",
        "\n",
        "```\n",
        "1\n",
        "00:00:00,000 --> 00:00:02,900\n",
        "你好，世界！\n",
        "Hello, world!\n",
        "```\n",
        "\n",
        "# 你需要翻译的字幕内容：\n",
        "\n",
        "```\n",
        "{content}\n",
        "```\n",
        "\n",
        "# 输出格式要求\n",
        "\n",
        "返回的输出不需要使用 Markdown 代码块格式，即不要使用 ```，直接返回内容即可。\n",
        "\"\"\""
      ]
    },
    {
      "cell_type": "code",
      "execution_count": null,
      "metadata": {
        "cellView": "form",
        "id": "_RONoRlJNtQB"
      },
      "outputs": [],
      "source": [
        "# @title ### 6.4 Use Google Gemini Model\n",
        "\n",
        "from langchain_google_genai import GoogleGenerativeAI\n",
        "\n",
        "\n",
        "# @markdown Choose Model:\n",
        "model_name = \"gemini-1.5-pro-latest\"  # @param [\"gemini-1.5-pro-latest\", \"gemini-1.5-flash-latest\"]\n",
        "llm = GoogleGenerativeAI(model=model_name, google_api_key=gemini_api_key)"
      ]
    },
    {
      "cell_type": "code",
      "execution_count": null,
      "metadata": {
        "cellView": "form",
        "id": "QaW19NnuPrwI"
      },
      "outputs": [],
      "source": [
        "# @title ### 6.5 Translate Subtitles\n",
        "# @markdown Translate and save the bilingual subtitle to the current Colab runtime environment.\n",
        "\n",
        "from langchain_core.prompts import PromptTemplate\n",
        "\n",
        "\n",
        "prompt = PromptTemplate.from_template(template)\n",
        "\n",
        "chain = prompt | llm\n",
        "\n",
        "# Read the subtitle\n",
        "subtitle_content = \"\"\n",
        "with open(f\"{prefix_filename}.srt\", \"r\", encoding=\"utf-8\") as source_subtitle:\n",
        "    subtitle_content = source_subtitle.read()\n",
        "    print(f\"Read source subtitle: {prefix_filename}.srt\")\n",
        "\n",
        "response = chain.invoke({\"language\": language, \"content\": subtitle_content})\n",
        "print(\"Translating and waiting...\")\n",
        "\n",
        "# Save the subtitle\n",
        "output_subtitle_name = f\"Translated_{prefix_filename}.srt\"\n",
        "with open(output_subtitle_name, \"w\", encoding=\"utf-8\") as output_subtitle:\n",
        "    output_subtitle.write(response)\n",
        "    print(f\"Save the bilingual subtitle: {output_subtitle_name}\")"
      ]
    },
    {
      "cell_type": "code",
      "execution_count": null,
      "metadata": {
        "cellView": "form",
        "id": "UGWViWnuqNse"
      },
      "outputs": [],
      "source": [
        "# @title ### 6.6 Download Subtitle\n",
        "# @markdown Download the translated subtitle to your browser's default download path.\n",
        "\n",
        "from google.colab import files\n",
        "\n",
        "\n",
        "files.download(output_subtitle_name)"
      ]
    },
    {
      "cell_type": "code",
      "execution_count": null,
      "metadata": {
        "cellView": "form",
        "id": "P2q5g6gXQ_hG"
      },
      "outputs": [],
      "source": [
        "# @title ### *6.7 View translated subtitle (optional)\n",
        "\n",
        "print(response)"
      ]
    }
  ],
  "metadata": {
    "accelerator": "GPU",
    "colab": {
      "gpuType": "T4",
      "provenance": [],
      "toc_visible": true
    },
    "kernelspec": {
      "display_name": "Python 3",
      "name": "python3"
    },
    "language_info": {
      "name": "python"
    }
  },
  "nbformat": 4,
  "nbformat_minor": 0
}
