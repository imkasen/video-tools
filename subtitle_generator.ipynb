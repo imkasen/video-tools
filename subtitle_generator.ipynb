{
  "nbformat": 4,
  "nbformat_minor": 0,
  "metadata": {
    "colab": {
      "provenance": [],
      "gpuType": "T4"
    },
    "kernelspec": {
      "name": "python3",
      "display_name": "Python 3"
    },
    "language_info": {
      "name": "python"
    },
    "accelerator": "GPU"
  },
  "cells": [
    {
      "cell_type": "markdown",
      "source": [
        "# Subtitle Generator"
      ],
      "metadata": {
        "id": "jkKqAMDqatXU"
      }
    },
    {
      "cell_type": "markdown",
      "source": [
        "<a target=\"_blank\" href=\"https://colab.research.google.com/github/imkasen/video-tools/blob/main/subtitle_generator.ipynb\">\n",
        "  <img src=\"https://colab.research.google.com/assets/colab-badge.svg\" alt=\"Open In Colab\"/>\n",
        "</a>"
      ],
      "metadata": {
        "id": "dvrI77NRbfwq"
      }
    },
    {
      "cell_type": "code",
      "execution_count": null,
      "metadata": {
        "cellView": "form",
        "id": "RMiHT8vqaiel"
      },
      "outputs": [],
      "source": [
        "# @title ## 1. Install Requirements\n",
        "%pip install --quiet yt-dlp openai-whisper faster-whisper ctranslate2==4.4.0"
      ]
    },
    {
      "cell_type": "code",
      "source": [
        "# @title ## 2. Download Video\n",
        "# @markdown For example, input a YouTube link: https://www.youtube.com/watch?v=lytxafTXg6c\n",
        "\n",
        "import subprocess\n",
        "import os\n",
        "import re\n",
        "\n",
        "\n",
        "def download_audio(video_url: str) -> str | None:\n",
        "    \"\"\"\n",
        "    Use yt-dlp to download the audio from a given video URL.\n",
        "    \"\"\"\n",
        "\n",
        "    try:\n",
        "        command = [\n",
        "            \"yt-dlp\",\n",
        "            \"-x\",\n",
        "            \"--audio-format\",\n",
        "            \"mp3\",\n",
        "            \"-o\",\n",
        "            \"%(title)s.%(ext)s\",\n",
        "            video_url\n",
        "        ]\n",
        "        process = subprocess.run(command, capture_output=True, text=True, check=True)\n",
        "        print(\"Download success!\")\n",
        "\n",
        "        # Extract file name\n",
        "        # print(f\"Output: {process.stdout}\")\n",
        "        match = re.search(r\"\\[ExtractAudio\\] Destination: (.*\\.mp3)\", process.stdout)\n",
        "        if match:\n",
        "            return match.group(1)\n",
        "        else:\n",
        "            print(\"Can not get file name\")\n",
        "            return None\n",
        "    except subprocess.CalledProcessError as e:\n",
        "        print(e.stderr)\n",
        "        return None\n",
        "    except FileNotFoundError:\n",
        "        print(\"Error: Can not find \\\"yt-dlp\\\".\")\n",
        "        return None\n",
        "\n",
        "\n",
        "video_link = \"\"  # @param {type: \"string\"}\n",
        "\n",
        "if video_link:\n",
        "    audio_filename = download_audio(video_link)\n",
        "    prefix_filename, _ = os.path.splitext(audio_filename)\n",
        "    if audio_filename:\n",
        "        print(f\"Audio file path: \\\"{audio_filename}\\\"\")\n",
        "    else:\n",
        "        print(\"Fail to download.\")\n",
        "else:\n",
        "    print(\"Please enter a video link.\")"
      ],
      "metadata": {
        "cellView": "form",
        "id": "80riFDYsehY4"
      },
      "execution_count": null,
      "outputs": []
    },
    {
      "cell_type": "code",
      "source": [
        "# @title ## 3. Upload Video/Audio\n",
        "# @markdown You can upload a video or audio file, too.\n",
        "\n",
        "from google.colab import files\n",
        "import os\n",
        "import mimetypes\n",
        "\n",
        "\n",
        "uploaded: dict = files.upload()\n",
        "\n",
        "uploaded_filename: str = \"\"\n",
        "if len(list(uploaded.keys())) == 1:\n",
        "    uploaded_filename: str = list(uploaded.keys())[0]\n",
        "\n",
        "if \" \" in uploaded_filename:\n",
        "    new_filename = uploaded_filename.replace(\" \", \"_\")\n",
        "    os.rename(uploaded_filename, new_filename)\n",
        "    print(f\"Rename file from '{uploaded_filename}' to '{new_filename}'\")\n",
        "    uploaded_filename = new_filename\n",
        "\n",
        "prefix_filename, _ = os.path.splitext(uploaded_filename)\n",
        "mime_type, _ = mimetypes.guess_type(uploaded_filename)\n",
        "audio_filename: str = \"\"\n",
        "\n",
        "if mime_type and mime_type.startswith(\"video/\"):\n",
        "    os.system(f'ffmpeg -hide_banner -v error -i \"{uploaded_filename}\" -vn -c:a aac \"{prefix_filename}.aac\" -y')\n",
        "    audio_filename = f\"{prefix_filename}.aac\"\n",
        "    if os.path.isfile(audio_filename):\n",
        "        print(f'Audio file: \"{audio_filename}\" extracted!')\n",
        "    else:\n",
        "        print(f'Fail to extract audio file: \"{audio_filename}\"!')\n",
        "elif mime_type and mime_type.startswith(\"audio/\"):\n",
        "    audio_filename = uploaded_filename\n",
        "    print(f'Use audio file: \"{audio_filename}\"')\n",
        "else:\n",
        "    print(\"Unknown file type!\")"
      ],
      "metadata": {
        "cellView": "form",
        "id": "SIy16Y6Mmdab"
      },
      "execution_count": null,
      "outputs": []
    },
    {
      "cell_type": "code",
      "source": [
        "# @title ### (opt) Download Audio\n",
        "# @markdown Download the extracted audio file to your browser's default download path.\n",
        "\n",
        "from google.colab import files\n",
        "\n",
        "\n",
        "files.download(audio_filename)"
      ],
      "metadata": {
        "cellView": "form",
        "id": "Z-OXhWvEqewQ"
      },
      "execution_count": null,
      "outputs": []
    },
    {
      "cell_type": "code",
      "source": [
        "# @title ## 4. Extract Subtitle\n",
        "\n",
        "from faster_whisper import WhisperModel\n",
        "from whisper.utils import get_writer\n",
        "from dataclasses import asdict\n",
        "import torch\n",
        "\n",
        "\n",
        "compute_type: str = \"\"\n",
        "device = torch.device(\"cuda\" if torch.cuda.is_available() else \"cpu\")\n",
        "if device.type == \"cuda\":\n",
        "    compute_type = \"float16\"\n",
        "if device.type == \"cpu\":\n",
        "    compute_type = \"int8\"\n",
        "\n",
        "print(\"Download whisper model.\")\n",
        "model = WhisperModel(\"large-v3\", device=device.type, compute_type=compute_type)\n",
        "\n",
        "print(\"Transcribe audio.\")\n",
        "segments, _ = model.transcribe(\n",
        "    audio_filename,\n",
        "    beam_size=5,\n",
        "    initial_prompt=\"Please use Simplified Chinese to display Chinese character.\",\n",
        "    vad_filter=True,\n",
        "    vad_parameters={\"min_silence_duration_ms\": 500},\n",
        ")\n",
        "\n",
        "segs_lst: list = []\n",
        "text: str = \"\"\n",
        "for segment in segments:\n",
        "    text += segment.text\n",
        "    # segment_dict = segment._asdict()\n",
        "    segment_dict = asdict(segment)\n",
        "    segment_dict.pop(\"words\")\n",
        "    segs_lst.append(segment_dict)\n",
        "result: dict[str, str | list] = {\"text\": text, \"segments\": segs_lst}\n",
        "\n",
        "print(\"Save subtitle.\")\n",
        "# Use the `writer` method in openai-whisper to save the subtitle file to the current runtime environment.\n",
        "writer = get_writer(\"srt\", \".\")\n",
        "writer(result, prefix_filename)"
      ],
      "metadata": {
        "cellView": "form",
        "id": "QIRUpMzXoy5r"
      },
      "execution_count": null,
      "outputs": []
    },
    {
      "cell_type": "code",
      "source": [
        "# @title ## 5. Download Subtitle\n",
        "# @markdown Download the subtitle file to your browser's default download path.\n",
        "\n",
        "from google.colab import files\n",
        "\n",
        "\n",
        "files.download(f\"{prefix_filename}.srt\")"
      ],
      "metadata": {
        "cellView": "form",
        "id": "2fJZZx9Uqnd7"
      },
      "execution_count": null,
      "outputs": []
    }
  ]
}