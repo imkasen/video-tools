{
  "cells": [
    {
      "cell_type": "markdown",
      "metadata": {
        "id": "jkKqAMDqatXU"
      },
      "source": [
        "# Subtitle Extractor"
      ]
    },
    {
      "cell_type": "markdown",
      "metadata": {
        "id": "dvrI77NRbfwq"
      },
      "source": [
        "<a target=\"_blank\" href=\"https://colab.research.google.com/github/imkasen/video-tools/blob/main/subtitle_extractor.ipynb\">\n",
        "  <img src=\"https://colab.research.google.com/assets/colab-badge.svg\" alt=\"Open In Colab\"/>\n",
        "</a>"
      ]
    },
    {
      "cell_type": "code",
      "execution_count": null,
      "metadata": {
        "cellView": "form",
        "id": "RMiHT8vqaiel"
      },
      "outputs": [],
      "source": [
        "# @title ## 1. Install Requirements\n",
        "%pip install --quiet yt-dlp openai-whisper"
      ]
    },
    {
      "cell_type": "code",
      "execution_count": null,
      "metadata": {
        "cellView": "form",
        "id": "SIy16Y6Mmdab"
      },
      "outputs": [],
      "source": [
        "# @title ## 2. Prepare Video/Audio\n",
        "\n",
        "from google.colab import files\n",
        "import os\n",
        "import mimetypes\n",
        "\n",
        "\n",
        "uploaded: dict = files.upload()\n",
        "\n",
        "uploaded_filename: str = \"\"\n",
        "if len(list(uploaded.keys())) == 1:\n",
        "    uploaded_filename: str = list(uploaded.keys())[0]\n",
        "\n",
        "if \" \" in uploaded_filename:\n",
        "    new_filename = uploaded_filename.replace(\" \", \"_\")\n",
        "    os.rename(uploaded_filename, new_filename)\n",
        "    print(f\"Rename file from '{uploaded_filename}' to '{new_filename}'\")\n",
        "    uploaded_filename = new_filename\n",
        "\n",
        "prefix_filename, _ = os.path.splitext(uploaded_filename)\n",
        "mime_type, _ = mimetypes.guess_type(uploaded_filename)\n",
        "audio_filename: str = \"\"\n",
        "\n",
        "if mime_type and mime_type.startswith(\"video/\"):\n",
        "    os.system(f'ffmpeg -hide_banner -v error -i \"{uploaded_filename}\" -vn -c:a aac \"{prefix_filename}.aac\" -y')\n",
        "    audio_filename = f\"{prefix_filename}.aac\"\n",
        "    if os.path.isfile(audio_filename):\n",
        "        print(f'Audio file: \"{audio_filename}\" extracted!')\n",
        "    else:\n",
        "        print(f'Fail to extract audio file: \"{audio_filename}\"!')\n",
        "elif mime_type and mime_type.startswith(\"audio/\"):\n",
        "    audio_filename = uploaded_filename\n",
        "    print(f'Use audio file: \"{audio_filename}\"')\n",
        "else:\n",
        "    print(\"Unknown file type!\")"
      ]
    },
    {
      "cell_type": "code",
      "execution_count": null,
      "metadata": {
        "cellView": "form",
        "id": "80riFDYsehY4"
      },
      "outputs": [],
      "source": [
        "# @title ### (opt) Download Video\n",
        "# @markdown For example, input a YouTube link: https://www.youtube.com/watch?v=lytxafTXg6c\n",
        "\n",
        "import subprocess\n",
        "import os\n",
        "import re\n",
        "\n",
        "\n",
        "def download_audio(video_url: str) -> str | None:\n",
        "    \"\"\"\n",
        "    Use yt-dlp to download the audio from a given video URL.\n",
        "    \"\"\"\n",
        "\n",
        "    try:\n",
        "        command = [\n",
        "            \"yt-dlp\",\n",
        "            \"-x\",\n",
        "            \"--audio-format\",\n",
        "            \"mp3\",\n",
        "            \"-o\",\n",
        "            \"%(title)s.%(ext)s\",\n",
        "            video_url\n",
        "        ]\n",
        "        process = subprocess.run(command, capture_output=True, text=True, check=True)\n",
        "        print(\"Download success!\")\n",
        "\n",
        "        # Extract file name\n",
        "        # print(f\"Output: {process.stdout}\")\n",
        "        match = re.search(r\"\\[ExtractAudio\\] Destination: (.*\\.mp3)\", process.stdout)\n",
        "        if match:\n",
        "            return match.group(1)\n",
        "        else:\n",
        "            print(\"Can not get file name\")\n",
        "            return None\n",
        "    except subprocess.CalledProcessError as e:\n",
        "        print(e.stderr)\n",
        "        return None\n",
        "    except FileNotFoundError:\n",
        "        print(\"Error: Can not find \\\"yt-dlp\\\".\")\n",
        "        return None\n",
        "\n",
        "\n",
        "video_link = \"\"  # @param {type: \"string\"}\n",
        "\n",
        "if video_link:\n",
        "    audio_filename = download_audio(video_link)\n",
        "    prefix_filename, _ = os.path.splitext(audio_filename)\n",
        "    if audio_filename:\n",
        "        print(f\"Audio file path: \\\"{audio_filename}\\\"\")\n",
        "    else:\n",
        "        print(\"Fail to download.\")\n",
        "else:\n",
        "    print(\"Please enter a video link.\")"
      ]
    },
    {
      "cell_type": "code",
      "execution_count": null,
      "metadata": {
        "cellView": "form",
        "id": "Z-OXhWvEqewQ"
      },
      "outputs": [],
      "source": [
        "# @title ### (opt) Download Audio\n",
        "# @markdown Download the extracted audio file to your browser's default download path.\n",
        "\n",
        "from google.colab import files\n",
        "\n",
        "\n",
        "files.download(audio_filename)"
      ]
    },
    {
      "cell_type": "code",
      "execution_count": null,
      "metadata": {
        "cellView": "form",
        "id": "AOBkKK09jqwW"
      },
      "outputs": [],
      "source": [
        "# @title ## 4 Choose Whisper Model\n",
        "\n",
        "whisper_model_size = \"turbo\"  # @param [\"turbo\", \"large\", \"medium\", \"small\", \"base\", \"tiny\"]"
      ]
    },
    {
      "cell_type": "code",
      "execution_count": null,
      "metadata": {
        "cellView": "form",
        "id": "QIRUpMzXoy5r"
      },
      "outputs": [],
      "source": [
        "# @title ## 5. Extract Subtitle Using Whisper\n",
        "\n",
        "import whisper\n",
        "from whisper.utils import get_writer\n",
        "\n",
        "\n",
        "print(\"Download whisper model.\")\n",
        "model: whisper.Whisper = whisper.load_model(whisper_model_size)\n",
        "\n",
        "print(\"Transcribe audio.\")\n",
        "result: dict[str, str | list] = model.transcribe(audio_filename, initial_prompt=\"Please use Simplified Chinese to display Chinese character.\")\n",
        "\n",
        "print(\"Save subtitle.\")\n",
        "# Use the `writer` method in openai-whisper to save the subtitle file to the current runtime environment.\n",
        "writer = get_writer(\"srt\", \".\")\n",
        "writer(result, prefix_filename)"
      ]
    },
    {
      "cell_type": "code",
      "execution_count": null,
      "metadata": {
        "cellView": "form",
        "id": "2fJZZx9Uqnd7"
      },
      "outputs": [],
      "source": [
        "# @title ## 6. Download Subtitle\n",
        "# @markdown Download the subtitle file to your browser's default download path.\n",
        "\n",
        "from google.colab import files\n",
        "\n",
        "\n",
        "files.download(f\"{prefix_filename}.srt\")"
      ]
    }
  ],
  "metadata": {
    "accelerator": "GPU",
    "colab": {
      "gpuType": "T4",
      "provenance": [],
      "toc_visible": true
    },
    "kernelspec": {
      "display_name": "Python 3",
      "name": "python3"
    },
    "language_info": {
      "name": "python"
    }
  },
  "nbformat": 4,
  "nbformat_minor": 0
}
